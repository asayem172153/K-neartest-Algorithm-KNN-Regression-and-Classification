{
  "nbformat": 4,
  "nbformat_minor": 0,
  "metadata": {
    "colab": {
      "provenance": []
    },
    "kernelspec": {
      "name": "python3",
      "display_name": "Python 3"
    },
    "language_info": {
      "name": "python"
    }
  },
  "cells": [
    {
      "cell_type": "code",
      "source": [
        "age=[45,26,30,34,40,36,19,28,23,32]\n",
        "height=[5,5.11,5.6,5.9,4.8,5.8,5.3,5.8,5.5,5.6]\n",
        "weight=[77,47,55,59,72,60,40,60,45,58]\n",
        "x=5.5 #height\n",
        "y=38 #age"
      ],
      "metadata": {
        "id": "BnK4xTBc7Dhr"
      },
      "execution_count": 4,
      "outputs": []
    },
    {
      "cell_type": "code",
      "execution_count": 5,
      "metadata": {
        "id": "aSGqGC6z24NG"
      },
      "outputs": [],
      "source": [
        "import math\n",
        "dist=[]\n",
        "for i in range(len(age)):\n",
        "  distance = math.sqrt((height[i]-x)**2+(age[i]-y)**2)\n",
        "  dist.append(distance)\n"
      ]
    },
    {
      "cell_type": "code",
      "source": [
        "K = 3  # Define the value of K (number of nearest neighbors to consider)\n",
        "nearest_indices = sorted(range(len(dist)), key=lambda i: dist[i])[:K]\n",
        "\n",
        "targets = [weight[i] for i in nearest_indices]\n",
        "\n",
        "predicted_weight = sum(targets) / len(targets)\n",
        "\n",
        "print(\"Predicted weight:\", predicted_weight)"
      ],
      "metadata": {
        "colab": {
          "base_uri": "https://localhost:8080/"
        },
        "id": "wxSk8Lux8EcH",
        "outputId": "ae67ab1c-d152-41a4-ee43-2cf5f32d99e5"
      },
      "execution_count": 6,
      "outputs": [
        {
          "output_type": "stream",
          "name": "stdout",
          "text": [
            "Predicted weight: 63.666666666666664\n"
          ]
        }
      ]
    }
  ]
}